{
 "cells": [
  {
   "cell_type": "markdown",
   "metadata": {
    "vscode": {
     "languageId": "plaintext"
    }
   },
   "source": [
    "# Example Neural Model Classification"
   ]
  },
  {
   "cell_type": "markdown",
   "metadata": {
    "vscode": {
     "languageId": "plaintext"
    }
   },
   "source": [
    "## Imports, Functions, & Settings"
   ]
  },
  {
   "cell_type": "code",
   "execution_count": null,
   "metadata": {},
   "outputs": [],
   "source": [
    "from datasets import Dataset\n",
    "import numpy as np\n",
    "from tqdm import tqdm\n",
    "import matplotlib.pyplot as plt\n",
    "from sklearn.metrics import accuracy_score\n",
    "import cv2\n",
    "from glob import glob\n",
    "import os\n",
    "from torch.utils.data import Dataset, DataLoader\n",
    "import torch\n",
    "\n",
    "import torch.nn as nn\n",
    "import torch.optim as optim\n",
    "import torchvision.transforms as transforms\n",
    "import torchvision.datasets as tv_datasets\n",
    "import torchvision.models as models\n",
    "\n",
    "from PIL import Image as PIL_Image\n",
    "\n",
    "import seaborn as sns\n",
    "from sklearn.metrics import confusion_matrix, classification_report\n",
    "from sklearn.metrics import accuracy_score, precision_score, recall_score, f1_score, roc_auc_score\n"
   ]
  },
  {
   "cell_type": "code",
   "execution_count": null,
   "metadata": {},
   "outputs": [],
   "source": [
    "# Define CNN Model\n",
    "class NeuralDataExpert(nn.Module):\n",
    "    def __init__(self):\n",
    "        super(NeuralDataExpert, self).__init__()\n",
    "        self.model = models.resnet18(pretrained=True)\n",
    "        self.model.fc = nn.Linear(self.model.fc.in_features, 2)  # Binary classification (Laughter vs. Non-Laughter)\n",
    "        self.brain_modality_mean = [17.6743, 17.4406, 17.1653]\n",
    "        self.brain_modality_std = [7.7531, 8.4884, 9.5815]\n",
    "        self.transform = transforms.Compose([\n",
    "            transforms.Resize((224, 224)),\n",
    "            transforms.ToTensor(),\n",
    "                transforms.Normalize(mean=self.brain_modality_mean, std=self.brain_modality_std)\n",
    "        ])\n",
    "    \n",
    "    def forward(self, x):\n",
    "        return self.model(x)"
   ]
  },
  {
   "cell_type": "code",
   "execution_count": null,
   "metadata": {},
   "outputs": [],
   "source": [
    "class SingleImageDataset(Dataset):\n",
    "    def __init__(self, image_path, label, transform=None):\n",
    "        \"\"\"\n",
    "        Args:\n",
    "            image_path (str): Path to the image file.\n",
    "            label (int): Label for the image.\n",
    "            transform (callable, optional): Optional transform to be applied on the image.\n",
    "        \"\"\"\n",
    "        self.image_path = image_path\n",
    "        self.label = label\n",
    "        self.transform = transform\n",
    "\n",
    "        # Load image\n",
    "        self.image = PIL_Image.open(self.image_path).convert(\"RGB\")\n",
    "\n",
    "    def __len__(self):\n",
    "        # Since it's just one image, the dataset length is 1\n",
    "        return 1\n",
    "\n",
    "    def __getitem__(self, idx):\n",
    "        # Apply transformation if provided\n",
    "        if self.transform:\n",
    "            image = self.transform(self.image)\n",
    "        else:\n",
    "            image = self.image\n",
    "\n",
    "        label = torch.tensor(self.label, dtype=torch.long)  # Or float if needed\n",
    "        return image, label\n"
   ]
  },
  {
   "cell_type": "code",
   "execution_count": null,
   "metadata": {},
   "outputs": [],
   "source": [
    "def load_torch_model(model_file_path, modelClass):\n",
    "    \"\"\"\n",
    "    This will return the loaded model using the \n",
    "    file path. It will use cuda if available.\n",
    "\n",
    "    Parameters\n",
    "    ----------\n",
    "    model_file_path : str\n",
    "        This is the path of the stored pytorch model.\n",
    "    model : nn.Module class\n",
    "        This is the model definition used to define\n",
    "        the model that is loaded.\n",
    "    \"\"\"\n",
    "    device = torch.device(\"cuda\" if torch.cuda.is_available() else \"cpu\")\n",
    "    model = modelClass()\n",
    "    model.load_state_dict(torch.load(model_file_path, map_location=torch.device(\"cuda\" if torch.cuda.is_available() else \"cpu\")))\n",
    "    model = model.to(device)\n",
    "    \n",
    "    return model"
   ]
  },
  {
   "cell_type": "code",
   "execution_count": null,
   "metadata": {},
   "outputs": [],
   "source": [
    "# Save the model state_dict\n",
    "def save_model(model, path):\n",
    "    \"\"\"\n",
    "    This function will save the trained pytorch model.\n",
    "\n",
    "    Parameters\n",
    "    ----------\n",
    "    model : str\n",
    "        This is the trained pytorch model.\n",
    "    path : str\n",
    "        This is the location the model is to be saved.\n",
    "    \"\"\"\n",
    "    torch.save(model.state_dict(), path)"
   ]
  },
  {
   "cell_type": "code",
   "execution_count": null,
   "metadata": {},
   "outputs": [],
   "source": [
    "device = torch.device(\"cuda\" if torch.cuda.is_available() else \"cpu\")"
   ]
  },
  {
   "cell_type": "code",
   "execution_count": null,
   "metadata": {},
   "outputs": [],
   "source": [
    "neural_data_model_f_path = '../models/neural_image_classifier_model.pth'\n",
    "training_data = '../data/train/brain/'\n",
    "testing_data = '../data/test/brain/'"
   ]
  },
  {
   "cell_type": "code",
   "execution_count": null,
   "metadata": {},
   "outputs": [],
   "source": [
    "neural_data_model = load_torch_model(neural_data_model_f_path, NeuralDataExpert)"
   ]
  },
  {
   "cell_type": "markdown",
   "metadata": {},
   "source": [
    "## Single Image Prediction"
   ]
  },
  {
   "cell_type": "code",
   "execution_count": null,
   "metadata": {},
   "outputs": [],
   "source": [
    "index = 0"
   ]
  },
  {
   "cell_type": "code",
   "execution_count": null,
   "metadata": {},
   "outputs": [],
   "source": [
    "# Testing the trained model on individual images\n",
    "# Execute this cell everytime to make a prediction on a new image!\n",
    "\n",
    "# Load and preprocess the image\n",
    "test_image_path = glob('../data/test/brain/0_non-laughter/' + \"*.png\")\n",
    "\n",
    "# image_path = \"../data/lex-non-laughter.png\"  # Path to your uploaded image\n",
    "image_path  = test_image_path[index]\n",
    "\n",
    "image = PIL_Image.open(image_path).convert(\"RGB\")  # Ensure it's in RGB mode\n",
    "plt.imshow(cv2.imread(image_path))\n",
    "plt.title(f\"{os.path.basename(image_path)}\")\n",
    "plt.axis('off')\n",
    "plt.show()\n",
    "index+=1 \n",
    "index%=len(test_image_path)\n",
    "\n",
    "transform = transforms.Compose([\n",
    "    transforms.Resize((224, 224)),  # Resize image to a fixed size\n",
    "    transforms.ToTensor(),  # Convert image to tensor\n",
    "    transforms.Normalize(mean=neural_data_model.brain_modality_mean, std=neural_data_model.brain_modality_std)  # Normalize (if needed)\n",
    "])\n",
    "\n",
    "label = 0  # for example, 1 for 'Laughter', 0 for 'Non-Laughter'\n",
    "\n",
    "# Create dataset\n",
    "dataset = SingleImageDataset(image_path=image_path, label=label, transform=transform)\n",
    "\n",
    "# Create DataLoader (batch_size=1 because it's a single image)\n",
    "dataloader = torch.utils.data.DataLoader(dataset, batch_size=1, shuffle=False)\n",
    "\n",
    "# Assuming 'neural_data_model' is your model\n",
    "neural_data_model.eval()\n",
    "\n",
    "# Move model to the same device as the data\n",
    "device = torch.device(\"cuda\" if torch.cuda.is_available() else \"cpu\")\n",
    "neural_data_model.to(device)\n",
    "\n",
    "# Iterate through the DataLoader\n",
    "with torch.no_grad():\n",
    "    for images, labels in dataloader:\n",
    "        images = images.to(device)\n",
    "        labels = labels.to(device)\n",
    "\n",
    "        # Forward pass\n",
    "        outputs = neural_data_model(images)\n",
    "        _, predicted = torch.max(outputs, 1)\n",
    "        prediction = predicted.item()\n",
    "\n",
    "        # Print the result\n",
    "        if prediction == 1:\n",
    "            prediction_label = \"Laughter\"\n",
    "        else:\n",
    "            prediction_label = \"Non-Laughter\"\n",
    "        print(f\"Predicted class: {prediction_label}\\nGround truth: Non-Laughter\")\n"
   ]
  },
  {
   "cell_type": "markdown",
   "metadata": {},
   "source": [
    "## Multi-Image Prediction"
   ]
  },
  {
   "cell_type": "code",
   "execution_count": null,
   "metadata": {},
   "outputs": [],
   "source": [
    "dataset = tv_datasets.ImageFolder(root='../data/test/brain/', transform=neural_data_model.transform)\n",
    "dataloader = torch.utils.data.DataLoader(dataset, batch_size=16, shuffle=False)\n",
    "neural_data_model.eval()\n",
    "device = torch.device(\"cuda\" if torch.cuda.is_available() else \"cpu\")\n",
    "_  = neural_data_model.to(device)\n",
    "predictions = []\n",
    "total = 0\n",
    "correct = 0\n",
    "all_labels = []\n",
    "with torch.no_grad():\n",
    "    for images, labels in dataloader:\n",
    "        images = images.to(device)\n",
    "        labels = labels.to(device)\n",
    "        all_labels.append(labels.cpu().numpy())\n",
    "        # Forward pass\n",
    "        \n",
    "        \n",
    "        outputs = neural_data_model(images)\n",
    "        _, predicted = torch.max(outputs, 1)\n",
    "        predictions.append(predicted.cpu().numpy())\n",
    "        total += labels.size(0)\n",
    "        correct += (predicted == labels).sum().item()\n",
    "\n",
    "accuracy = 100 * correct / total\n",
    "print(f\"Test Accuracy: {accuracy:.2f}%\")\n",
    "\n",
    "all_labels = np.concatenate(all_labels, axis=0)\n",
    "predictions = np.concatenate(predictions, axis=0)\n"
   ]
  },
  {
   "cell_type": "markdown",
   "metadata": {},
   "source": [
    "### Metrics"
   ]
  },
  {
   "cell_type": "code",
   "execution_count": null,
   "metadata": {},
   "outputs": [],
   "source": [
    "y_true = all_labels  # True labels\n",
    "y_pred = predictions  # Predicted labels\n",
    "\n",
    "# Calculate confusion matrix\n",
    "cm = confusion_matrix(y_true, y_pred)\n",
    "\n",
    "# Calculate classification report (includes precision, recall, f1-score, support)\n",
    "report = classification_report(y_true, y_pred)\n",
    "\n",
    "# Calculate other metrics (if needed)\n",
    "accuracy = accuracy_score(y_true, y_pred)\n",
    "precision = precision_score(y_true, y_pred)\n",
    "recall = recall_score(y_true, y_pred)\n",
    "f1 = f1_score(y_true, y_pred)\n",
    "roc_auc = roc_auc_score(y_true, y_pred)\n",
    "\n",
    "# Plot confusion matrix using seaborn\n",
    "plt.figure(figsize=(6, 5))\n",
    "sns.heatmap(cm, annot=True, fmt='d', cmap='Blues', xticklabels=[\"Negative\", \"Positive\"], yticklabels=[\"Negative\", \"Positive\"])\n",
    "plt.title(\"Confusion Matrix\")\n",
    "plt.xlabel(\"Predicted\")\n",
    "plt.ylabel(\"Actual\")\n",
    "plt.show()\n",
    "\n",
    "# Print classification report and other metrics\n",
    "print(\"Classification Report:\")\n",
    "print(report)\n",
    "\n",
    "print(\"\\nOther Metrics:\")\n",
    "print(f\"Accuracy: {accuracy:.4f}\")\n",
    "print(f\"Precision: {precision:.4f}\")\n",
    "print(f\"Recall: {recall:.4f}\")\n",
    "print(f\"F1-Score: {f1:.4f}\")\n",
    "print(f\"ROC AUC: {roc_auc:.4f}\")\n"
   ]
  },
  {
   "cell_type": "markdown",
   "metadata": {},
   "source": [
    "### Training the Neural Network"
   ]
  },
  {
   "cell_type": "code",
   "execution_count": null,
   "metadata": {},
   "outputs": [],
   "source": [
    "# Computing the Mean and Variance to Normalize the data:\n",
    "\n",
    "# Load your dataset\n",
    "dataset = tv_datasets.ImageFolder(root=training_data, transform=transforms.ToTensor())\n",
    "\n",
    "# Create a DataLoader to iterate over the dataset\n",
    "dataloader = DataLoader(dataset, batch_size=64, shuffle=False)\n",
    "\n",
    "# Initialize variables to compute the mean and std\n",
    "brain_modality_mean = 0.0\n",
    "brain_modality_std = 0.0\n",
    "num_batches = 0\n",
    "\n",
    "# Iterate over the dataset to compute mean and std\n",
    "for images, _ in dataloader:\n",
    "    batch_samples = images.size(0)  # Get the number of images in the batch\n",
    "    images = images.view(batch_samples, images.size(1), -1)  # Flatten the images\n",
    "    brain_modality_mean += images.mean(2).sum(0)  # Sum the mean of each image channel\n",
    "    brain_modality_std += images.std(2).sum(0)    # Sum the std of each image channel\n",
    "    num_batches += 1\n",
    "\n",
    "brain_modality_mean /= num_batches  # Average mean over all batches\n",
    "brain_modality_std /= num_batches    # Average std over all batches\n",
    "\n",
    "print(\"Mean:\", brain_modality_mean)\n",
    "print(\"Std:\", brain_modality_std)\n"
   ]
  },
  {
   "cell_type": "code",
   "execution_count": null,
   "metadata": {},
   "outputs": [],
   "source": [
    "# Set device\n",
    "device = torch.device(\"cuda\" if torch.cuda.is_available() else \"cpu\")\n",
    "# Define transformations\n",
    "transform = transforms.Compose([\n",
    "    transforms.Resize((224, 224)),  # Resize images to match model input size\n",
    "    transforms.ToTensor(),          # Convert images to PyTorch tensors\n",
    "    transforms.Normalize(mean=brain_modality_mean, std=brain_modality_std)  # Normalize pixel values\n",
    "])\n"
   ]
  },
  {
   "cell_type": "code",
   "execution_count": null,
   "metadata": {},
   "outputs": [],
   "source": [
    "# Initialize model\n",
    "neuralModel = NeuralDataExpert().to(device)\n",
    "criterion = nn.CrossEntropyLoss()\n",
    "optimizer = optim.Adam(neuralModel.parameters(), lr=0.001)"
   ]
  },
  {
   "cell_type": "code",
   "execution_count": null,
   "metadata": {},
   "outputs": [],
   "source": [
    "# Load dataset (Assuming laughter and non-laughter images are in separate folders)\n",
    "neuralModel = NeuralDataExpert().to(device)\n",
    "dataset = tv_datasets.ImageFolder(root=training_data, transform=neuralModel.transform)\n",
    "train_size = int(0.8 * len(dataset))\n",
    "test_size = len(dataset) - train_size\n",
    "train_dataset, test_dataset = torch.utils.data.random_split(dataset, [train_size, test_size])\n",
    "\n",
    "train_loader = DataLoader(train_dataset, batch_size=16, shuffle=True)\n",
    "test_loader = DataLoader(test_dataset, batch_size=16, shuffle=False)"
   ]
  },
  {
   "cell_type": "code",
   "execution_count": null,
   "metadata": {},
   "outputs": [],
   "source": [
    "# Training loop\n",
    "epochs = 10\n",
    "for epoch in tqdm(range(epochs), desc=\"Training...\", ascii=\"░▒▓█\"):\n",
    "    neuralModel.train()\n",
    "    running_loss = 0.0\n",
    "    for images, labels in train_loader:\n",
    "        images, labels = images.to(device), labels.to(device)\n",
    "        \n",
    "        optimizer.zero_grad()\n",
    "        outputs = neuralModel(images)\n",
    "        loss = criterion(outputs, labels)\n",
    "        loss.backward()\n",
    "        optimizer.step()\n",
    "        \n",
    "        running_loss += loss.item()\n",
    "    print(f\"Epoch [{epoch+1}/{epochs}], Loss: {running_loss/len(train_loader):.4f}\")\n"
   ]
  },
  {
   "cell_type": "code",
   "execution_count": null,
   "metadata": {},
   "outputs": [],
   "source": [
    "# Evaluation\n",
    "neuralModel.eval()\n",
    "correct = 0\n",
    "total = 0\n",
    "with torch.no_grad():\n",
    "    for images, labels in test_loader:\n",
    "        images, labels = images.to(device), labels.to(device)\n",
    "        outputs = neuralModel(images)\n",
    "        _, predicted = torch.max(outputs, 1)\n",
    "        total += labels.size(0)\n",
    "        correct += (predicted == labels).sum().item()\n",
    "\n",
    "accuracy = 100 * correct / total\n",
    "print(f\"Validation Accuracy: {accuracy:.2f}%\")"
   ]
  },
  {
   "cell_type": "code",
   "execution_count": null,
   "metadata": {},
   "outputs": [],
   "source": [
    "# Save the model for future use\n",
    "save_model(neuralModel, \"../models/neural_image_classifier_model.pth\")"
   ]
  }
 ],
 "metadata": {
  "kernelspec": {
   "display_name": "torch",
   "language": "python",
   "name": "python3"
  },
  "language_info": {
   "codemirror_mode": {
    "name": "ipython",
    "version": 3
   },
   "file_extension": ".py",
   "mimetype": "text/x-python",
   "name": "python",
   "nbconvert_exporter": "python",
   "pygments_lexer": "ipython3",
   "version": "3.10.16"
  }
 },
 "nbformat": 4,
 "nbformat_minor": 2
}
