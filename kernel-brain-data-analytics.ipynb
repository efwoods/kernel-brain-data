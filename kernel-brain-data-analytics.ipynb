{
 "cells": [
  {
   "cell_type": "markdown",
   "metadata": {},
   "source": [
    "## Imports"
   ]
  },
  {
   "cell_type": "code",
   "execution_count": null,
   "metadata": {},
   "outputs": [],
   "source": [
    "import numpy as np\n",
    "import pandas as pd\n",
    "from glob import glob\n",
    "import cv2\n",
    "import time\n",
    "from IPython.display import Video, display\n",
    "import IPython.display as idisplay\n",
    "from PIL import Image\n"
   ]
  },
  {
   "cell_type": "code",
   "execution_count": null,
   "metadata": {},
   "outputs": [],
   "source": [
    "file_name = './data/kernel-brain-data-jokes.mp4'\n",
    "cap = cv2.VideoCapture(file_name)"
   ]
  },
  {
   "cell_type": "markdown",
   "metadata": {},
   "source": [
    "## Display embedded video using IPython display "
   ]
  },
  {
   "cell_type": "code",
   "execution_count": null,
   "metadata": {},
   "outputs": [],
   "source": [
    "# Replace 'path_to_your_video.mp4' with the path to your video file\n",
    "video = Video(file_name, embed=True)\n",
    "\n",
    "display(video)"
   ]
  },
  {
   "cell_type": "markdown",
   "metadata": {},
   "source": [
    "## Display using opencv"
   ]
  },
  {
   "cell_type": "code",
   "execution_count": null,
   "metadata": {},
   "outputs": [],
   "source": [
    "cap = cv2.VideoCapture(file_name)\n",
    "\n",
    "if (cap.isOpened() == False):\n",
    "    print(\"Error opening video file\")\n",
    "else:\n",
    "    while(cap.isOpened()):\n",
    "        # Capture frame-by-frame\n",
    "        ret, frame = cap.read()\n",
    "        if not ret:\n",
    "            break\n",
    "        \n",
    "        # Draw a point at coordinate (100, 100)\n",
    "        # The color is red (0, 0, 255) in BGR, the radius is 5 pixels and the thickness is -1 that fills the circle\n",
    "        cv2.circle(frame, (100, 100), 5, (0,0,255), -1)\n",
    "        # Convert to rgb\n",
    "        frame = cv2.cvtColor(frame, cv2.COLOR_BGR2RGB)\n",
    "        \n",
    "        # Convert frame to image\n",
    "        img = Image.fromarray(frame)\n",
    "        \n",
    "        # Display the image in Jupyter Notebook\n",
    "        idisplay.clear_output(wait=True)\n",
    "        idisplay.display(img)\n",
    "        \n",
    "        time.sleep(1 / cap.get(cv2.CAP_PROP_FPS)) # Maintain frame rate\n",
    "    \n",
    "cap.release()"
   ]
  }
 ],
 "metadata": {
  "kernelspec": {
   "display_name": "torch",
   "language": "python",
   "name": "python3"
  },
  "language_info": {
   "codemirror_mode": {
    "name": "ipython",
    "version": 3
   },
   "file_extension": ".py",
   "mimetype": "text/x-python",
   "name": "python",
   "nbconvert_exporter": "python",
   "pygments_lexer": "ipython3",
   "version": "3.10.16"
  }
 },
 "nbformat": 4,
 "nbformat_minor": 2
}
